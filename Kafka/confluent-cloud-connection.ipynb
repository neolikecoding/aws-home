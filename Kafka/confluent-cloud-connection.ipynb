{
 "cells": [
  {
   "cell_type": "code",
   "execution_count": 4,
   "metadata": {},
   "outputs": [],
   "source": [
    "from confluent_kafka import Producer, Consumer\n",
    "\n",
    "\n",
    "def read_config():\n",
    "  # reads the client configuration from client.properties\n",
    "  # and returns it as a key-value map\n",
    "  config = {}\n",
    "  with open(\"client.properties\") as fh:\n",
    "    for line in fh:\n",
    "      line = line.strip()\n",
    "      if len(line) != 0 and line[0] != \"#\":\n",
    "        parameter, value = line.strip().split('=', 1)\n",
    "        config[parameter] = value.strip()\n",
    "  return config\n",
    "\n",
    "def produce(topic, config):\n",
    "  # creates a new producer instance\n",
    "  producer = Producer(config)\n",
    "\n",
    "  # produces a sample message\n",
    "  key = \"Name\"\n",
    "  value = \"Parul\"\n",
    "  producer.produce(topic, key=key, value=value)\n",
    "  print(f\"Produced message to topic {topic}: key = {key:12} value = {value:12}\")\n",
    "\n",
    "  # send any outstanding or buffered messages to the Kafka broker\n",
    "  producer.flush()\n",
    "\n",
    "def consume(topic, config):\n",
    "  # sets the consumer group ID and offset  \n",
    "  config[\"group.id\"] = \"python-group-1\"\n",
    "  config[\"auto.offset.reset\"] = \"earliest\"\n",
    "\n",
    "  # creates a new consumer instance\n",
    "  consumer = Consumer(config)\n",
    "\n",
    "  # subscribes to the specified topic\n",
    "  consumer.subscribe([topic])\n",
    "\n",
    "  try:\n",
    "    while True:\n",
    "      # consumer polls the topic and prints any incoming messages\n",
    "      msg = consumer.poll(1.0)\n",
    "      if msg is not None and msg.error() is None:\n",
    "        key = msg.key().decode(\"utf-8\")\n",
    "        value = msg.value().decode(\"utf-8\")\n",
    "        print(f\"Consumed message from topic {topic}: key = {key:12} value = {value:12}\")\n",
    "  except KeyboardInterrupt:\n",
    "    pass\n",
    "  finally:\n",
    "    # closes the consumer connection\n",
    "    consumer.close()"
   ]
  },
  {
   "cell_type": "code",
   "execution_count": 5,
   "metadata": {},
   "outputs": [
    {
     "name": "stderr",
     "output_type": "stream",
     "text": [
      "%4|1737756134.040|CONFWARN|ccloud-python-client-a7265fc9-3f9c-4ec1-814a-53775c522002#producer-3| [thrd:app]: Configuration property session.timeout.ms is a consumer property and will be ignored by this producer instance\n"
     ]
    },
    {
     "name": "stdout",
     "output_type": "stream",
     "text": [
      "Produced message to topic user-topic: key = Name         value = Parul       \n"
     ]
    },
    {
     "name": "stderr",
     "output_type": "stream",
     "text": [
      "%6|1737756134.380|GETSUBSCRIPTIONS|ccloud-python-client-a7265fc9-3f9c-4ec1-814a-53775c522002#producer-3| [thrd:main]: Telemetry client instance id changed from AAAAAAAAAAAAAAAAAAAAAA to YpWQLzmGRJCXUIaUnVGSvw\n"
     ]
    }
   ],
   "source": [
    "\n",
    "config = read_config()\n",
    "topic = \"user-topic\"\n",
    "\n",
    "produce(topic, config)\n"
   ]
  },
  {
   "cell_type": "code",
   "execution_count": 6,
   "metadata": {},
   "outputs": [
    {
     "name": "stderr",
     "output_type": "stream",
     "text": [
      "%6|1737756144.428|GETSUBSCRIPTIONS|ccloud-python-client-a7265fc9-3f9c-4ec1-814a-53775c522002#consumer-4| [thrd:main]: Telemetry client instance id changed from AAAAAAAAAAAAAAAAAAAAAA to ApGnQIZBTQmHdpn4SifSmg\n"
     ]
    },
    {
     "name": "stdout",
     "output_type": "stream",
     "text": [
      "Consumed message from topic user-topic: key = 234          value = \"KeyValue-234\"\n",
      "Consumed message from topic user-topic: key = 345          value = \"KeyValue-345\"\n",
      "Consumed message from topic user-topic: key = 456          value = \"KeyValue-456\"\n",
      "Consumed message from topic user-topic: key = 789          value = \"KeyValue-789\"\n",
      "Consumed message from topic user-topic: key = 890          value = \"KeyValue-890\"\n",
      "Consumed message from topic user-topic: key = Name         value = Parul       \n",
      "Consumed message from topic user-topic: key = Name         value = Parul       \n",
      "Consumed message from topic user-topic: key = Name         value = Parul       \n",
      "Consumed message from topic user-topic: key = 1234213      value = \"KeyValue\"  \n",
      "Consumed message from topic user-topic: key = 678          value = \"KeyValue-678\"\n",
      "Consumed message from topic user-topic: key = 901          value = \"KeyValue-901\"\n"
     ]
    }
   ],
   "source": [
    "consume(topic, config)"
   ]
  }
 ],
 "metadata": {
  "kernelspec": {
   "display_name": "base-3.13.0",
   "language": "python",
   "name": "python3"
  },
  "language_info": {
   "codemirror_mode": {
    "name": "ipython",
    "version": 3
   },
   "file_extension": ".py",
   "mimetype": "text/x-python",
   "name": "python",
   "nbconvert_exporter": "python",
   "pygments_lexer": "ipython3",
   "version": "3.13.0"
  }
 },
 "nbformat": 4,
 "nbformat_minor": 2
}
