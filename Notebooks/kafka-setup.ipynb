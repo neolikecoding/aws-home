{
 "cells": [
  {
   "cell_type": "markdown",
   "metadata": {},
   "source": [
    "### Set up Kafka cluster using docker ###\n",
    "\n",
    "* https://docs.confluent.io/platform/current/get-started/platform-quickstart.html\n",
    "* Download YAML file location - https://github.com/confluentinc/cp-all-in-one/tree/7.8.0-post/cp-all-in-one-kraft/docker-compose.yml\n",
    "* Run \"docker compose up -d\" command from command prompt\n",
    "* Go to url http://localhost:9021 and create topic as mentioned in documentation\n",
    "* Managing multiple python environments - https://medium.com/@adocquin/mastering-python-virtual-environments-with-pyenv-and-pyenv-virtualenv-c4e017c0b173\n",
    "\n",
    "Another setup Set up using documentation https://hevodata.com/learn/kafka-console-producer/#step1\n"
   ]
  },
  {
   "cell_type": "code",
   "execution_count": null,
   "metadata": {},
   "outputs": [
    {
     "name": "stderr",
     "output_type": "stream",
     "text": [
      "%3|1735672769.999|FAIL|rdkafka#producer-1| [thrd:broker:29092/bootstrap]: broker:29092/bootstrap: Failed to resolve 'broker:29092': Temporary failure in name resolution (after 8ms in state CONNECT)\n",
      "%3|1735672772.002|FAIL|rdkafka#producer-1| [thrd:broker:29092/bootstrap]: broker:29092/bootstrap: Failed to resolve 'broker:29092': Temporary failure in name resolution (after 10ms in state CONNECT, 1 identical error(s) suppressed)\n",
      "%3|1735672802.007|FAIL|rdkafka#producer-1| [thrd:broker:29092/bootstrap]: broker:29092/bootstrap: Failed to resolve 'broker:29092': Temporary failure in name resolution (after 10ms in state CONNECT, 15 identical error(s) suppressed)\n"
     ]
    }
   ],
   "source": [
    "#!/usr/bin/env python\n",
    "\n",
    "from random import choice\n",
    "from confluent_kafka import Producer\n",
    "\n",
    "if __name__ == '__main__':\n",
    "\n",
    "    config = {\n",
    "        # User-specific properties that you must set\n",
    "        'bootstrap.servers': 'broker:29092',\n",
    "\n",
    "        # Fixed properties\n",
    "        'acks': 'all'\n",
    "    }\n",
    "\n",
    "    # Create Producer instance\n",
    "    producer = Producer(config)\n",
    "\n",
    "    # Optional per-message delivery callback (triggered by poll() or flush())\n",
    "    # when a message has been successfully delivered or permanently\n",
    "    # failed delivery (after retries).\n",
    "    def delivery_callback(err, msg):\n",
    "        if err:\n",
    "            print('ERROR: Message failed delivery: {}'.format(err))\n",
    "        else:\n",
    "            print(\"Produced event to topic {topic}: key = {key:12} value = {value:12}\".format(\n",
    "                topic=msg.topic(), key=msg.key().decode('utf-8'), value=msg.value().decode('utf-8')))\n",
    "\n",
    "    # Produce data by selecting random values from these lists.\n",
    "    topic = \"purchases\"\n",
    "    user_ids = ['eabara', 'jsmith', 'sgarcia', 'jbernard', 'htanaka', 'awalther']\n",
    "    products = ['book', 'alarm clock', 't-shirts', 'gift card', 'batteries']\n",
    "\n",
    "    count = 0\n",
    "    for _ in range(10):\n",
    "        user_id = choice(user_ids)\n",
    "        product = choice(products)\n",
    "        producer.produce(topic, product, user_id, callback=delivery_callback)\n",
    "        count += 1\n",
    "\n",
    "    # Block until the messages are sent.\n",
    "    producer.poll(10000)\n",
    "    producer.flush()"
   ]
  }
 ],
 "metadata": {
  "kernelspec": {
   "display_name": "base-3.13.0",
   "language": "python",
   "name": "python3"
  },
  "language_info": {
   "codemirror_mode": {
    "name": "ipython",
    "version": 3
   },
   "file_extension": ".py",
   "mimetype": "text/x-python",
   "name": "python",
   "nbconvert_exporter": "python",
   "pygments_lexer": "ipython3",
   "version": "3.13.0"
  }
 },
 "nbformat": 4,
 "nbformat_minor": 2
}
