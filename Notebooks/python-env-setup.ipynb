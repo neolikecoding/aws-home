{
 "cells": [
  {
   "cell_type": "markdown",
   "metadata": {},
   "source": [
    "Reference used - https://medium.com/@adocquin/mastering-python-virtual-environments-with-pyenv-and-pyenv-virtualenv-c4e017c0b173\n",
    "\n",
    "`pyenv install`: To install a new Python version \\\n",
    "`pyenv update`': To update pyenv \\\n",
    "`pyenv virtualenv`: To create a new Python virtual environment. \\\n",
    "`pyenv activate`: To activate a previously created virtual environment. \\\n",
    "`source deactivate`: To deactivate the virtual environment currently in use. \\\n",
    "`pyenv uninstall`: To uninstall a virtual environment or Python version. \n",
    "\n",
    "You can check all available python installs from remote by using `pyenv install -l` command\n",
    "\n",
    "Install required version of python using command `pyenv install <version of your choice eg. 3.11.3>`\n",
    "\n",
    "List available installed versions of python locally using command `pyenv versions`\n",
    "\n",
    "Once you install required base version of python, you can then create virtual environment using command `pyenv virtualenv <python_version> <environment_name>`\n",
    "\n",
    "To activate environment, use command `pyenv activate <environment_name>`\n",
    "\n",
    "To deactivate active environment, use command `source deactivate`\n",
    "\n",
    "You can delete environment or version using command `pyenv uninstall <environment_name or python version>`"
   ]
  }
 ],
 "metadata": {
  "kernelspec": {
   "display_name": "base-3.13.0",
   "language": "python",
   "name": "python3"
  },
  "language_info": {
   "name": "python",
   "version": "3.13.0"
  }
 },
 "nbformat": 4,
 "nbformat_minor": 2
}
